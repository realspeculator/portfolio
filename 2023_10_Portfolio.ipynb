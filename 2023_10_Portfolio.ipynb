{
 "cells": [
  {
   "cell_type": "markdown",
   "id": "c725ae87-516c-4d1b-a2ae-b5cc470c14aa",
   "metadata": {},
   "source": [
    "### Portfolio Returns for October 2023."
   ]
  },
  {
   "cell_type": "code",
   "execution_count": 1,
   "id": "111257d3-eef6-4432-8afe-f4610c5e6b6f",
   "metadata": {},
   "outputs": [],
   "source": [
    "import pandas as pd\n",
    "import os\n",
    "import seaborn as sns\n",
    "import matplotlib.pyplot as plt"
   ]
  },
  {
   "cell_type": "markdown",
   "id": "793b8273-d72b-4f0d-94fd-efc9f6986c8a",
   "metadata": {},
   "source": [
    "Read the files from Github."
   ]
  },
  {
   "cell_type": "code",
   "execution_count": 2,
   "id": "ea9e625c-071e-437b-9e7c-9e768fc7b045",
   "metadata": {},
   "outputs": [],
   "source": [
    "files_list = os.listdir(\"../live_portfolio/2023/010_2023/\")\n",
    "files_list.remove(\".DS_Store\") # Remove Apple .DS_Store file."
   ]
  },
  {
   "cell_type": "markdown",
   "id": "b75d7cd0-9b66-413b-9b4a-01bcda90ae15",
   "metadata": {},
   "source": [
    "Functions to build the urls, read the files and get the Net Liquidation Values for each day."
   ]
  },
  {
   "cell_type": "code",
   "execution_count": 3,
   "id": "7ea073e5-a20d-44d4-8a10-9d6064a6a5aa",
   "metadata": {},
   "outputs": [],
   "source": [
    "def build_files_url(files_names):\n",
    "    \n",
    "    return \"https://raw.githubusercontent.com/realspeculator/live_portfolio/main/2023/010_2023/\" + files_names\n",
    "\n",
    "def get_net_lq_value(url):\n",
    "    \n",
    "    df1 = pd.read_csv(url)\n",
    "    net_lq = df1[df1[\"DATE\"] == \"Net Liquidating Value\"].iloc[0,1]\n",
    "    net_lq = float(net_lq.replace(\"$\", \"\").replace(\",\", \"\"))\n",
    "    \n",
    "    return net_lq\n",
    "\n",
    "urls = list(map(build_files_url, files_list))"
   ]
  },
  {
   "cell_type": "markdown",
   "id": "f0e22685-df16-4196-a2e3-486e9f19626e",
   "metadata": {},
   "source": [
    "Create a list of daily net liquidation value. The `orig_net_liq` is the opening net liquidation value. Since the portfolio was started on October 20, 2020 our this value is $100000000."
   ]
  },
  {
   "cell_type": "code",
   "execution_count": 4,
   "id": "1829ea0c-6fb6-4a24-b6dc-442892cbb9dd",
   "metadata": {},
   "outputs": [],
   "source": [
    "orig_net_liq = [100000000] # This value will be the same as begining value for each month.\n",
    "net_liq = list(map(get_net_lq_value, urls))\n",
    "net_liq = orig_net_liq + net_liq"
   ]
  },
  {
   "cell_type": "markdown",
   "id": "b04f5156-0c1f-48a1-8bc8-5073bbe3738b",
   "metadata": {},
   "source": [
    "Build a dataframe for Net Liquidation Value and calulate the daily and cumulative returns."
   ]
  },
  {
   "cell_type": "code",
   "execution_count": 5,
   "id": "589e2067-5013-4f74-8282-3e772846fa57",
   "metadata": {},
   "outputs": [],
   "source": [
    "net_liq_df = pd.DataFrame({'date': ['2023-10-20'] + [i[0:10] for i in files_list],\n",
    "              'net_liq': net_liq})\n",
    "\n",
    "net_liq_df['date'] = pd.to_datetime(net_liq_df['date'])\n",
    "net_liq_df = net_liq_df.sort_values(by='date')\n",
    "\n",
    "net_liq_df['returns'] =  net_liq_df['net_liq'].pct_change()\n",
    "\n",
    "net_liq_df['cumulative_returns'] = (net_liq_df['returns'] + 1).cumprod()"
   ]
  },
  {
   "cell_type": "code",
   "execution_count": 6,
   "id": "e1ae6bd9-0b53-4d94-a549-6fe9adafa2c5",
   "metadata": {},
   "outputs": [],
   "source": [
    "net_liq_df.to_csv(\"2023_10_portfolio.csv\", index=False)"
   ]
  },
  {
   "cell_type": "markdown",
   "id": "11686913-90e8-42c1-9d3f-2047fe936b30",
   "metadata": {},
   "source": [
    "#### Daily Net Liquidation Value"
   ]
  },
  {
   "cell_type": "code",
   "execution_count": 7,
   "id": "8446a2b1-e3de-40df-902e-4c141d10968e",
   "metadata": {},
   "outputs": [
    {
     "data": {
      "text/html": [
       "<div>\n",
       "<style scoped>\n",
       "    .dataframe tbody tr th:only-of-type {\n",
       "        vertical-align: middle;\n",
       "    }\n",
       "\n",
       "    .dataframe tbody tr th {\n",
       "        vertical-align: top;\n",
       "    }\n",
       "\n",
       "    .dataframe thead th {\n",
       "        text-align: right;\n",
       "    }\n",
       "</style>\n",
       "<table border=\"1\" class=\"dataframe\">\n",
       "  <thead>\n",
       "    <tr style=\"text-align: right;\">\n",
       "      <th></th>\n",
       "      <th>date</th>\n",
       "      <th>net_liq</th>\n",
       "      <th>returns</th>\n",
       "      <th>cumulative_returns</th>\n",
       "    </tr>\n",
       "  </thead>\n",
       "  <tbody>\n",
       "    <tr>\n",
       "      <th>0</th>\n",
       "      <td>2023-10-20</td>\n",
       "      <td>1.000000e+08</td>\n",
       "      <td>NaN</td>\n",
       "      <td>NaN</td>\n",
       "    </tr>\n",
       "    <tr>\n",
       "      <th>3</th>\n",
       "      <td>2023-10-21</td>\n",
       "      <td>1.005117e+08</td>\n",
       "      <td>0.005117</td>\n",
       "      <td>1.005117</td>\n",
       "    </tr>\n",
       "    <tr>\n",
       "      <th>4</th>\n",
       "      <td>2023-10-23</td>\n",
       "      <td>1.008146e+08</td>\n",
       "      <td>0.003013</td>\n",
       "      <td>1.008146</td>\n",
       "    </tr>\n",
       "    <tr>\n",
       "      <th>2</th>\n",
       "      <td>2023-10-24</td>\n",
       "      <td>1.007440e+08</td>\n",
       "      <td>-0.000700</td>\n",
       "      <td>1.007440</td>\n",
       "    </tr>\n",
       "    <tr>\n",
       "      <th>1</th>\n",
       "      <td>2023-10-25</td>\n",
       "      <td>1.008456e+08</td>\n",
       "      <td>0.001008</td>\n",
       "      <td>1.008456</td>\n",
       "    </tr>\n",
       "    <tr>\n",
       "      <th>5</th>\n",
       "      <td>2023-10-26</td>\n",
       "      <td>1.018890e+08</td>\n",
       "      <td>0.010346</td>\n",
       "      <td>1.018890</td>\n",
       "    </tr>\n",
       "  </tbody>\n",
       "</table>\n",
       "</div>"
      ],
      "text/plain": [
       "        date       net_liq   returns  cumulative_returns\n",
       "0 2023-10-20  1.000000e+08       NaN                 NaN\n",
       "3 2023-10-21  1.005117e+08  0.005117            1.005117\n",
       "4 2023-10-23  1.008146e+08  0.003013            1.008146\n",
       "2 2023-10-24  1.007440e+08 -0.000700            1.007440\n",
       "1 2023-10-25  1.008456e+08  0.001008            1.008456\n",
       "5 2023-10-26  1.018890e+08  0.010346            1.018890"
      ]
     },
     "execution_count": 7,
     "metadata": {},
     "output_type": "execute_result"
    }
   ],
   "source": [
    "net_liq_df"
   ]
  },
  {
   "cell_type": "code",
   "execution_count": null,
   "id": "3336c505-90fb-46d2-92d8-de3b86251bcf",
   "metadata": {},
   "outputs": [],
   "source": []
  },
  {
   "cell_type": "code",
   "execution_count": null,
   "id": "ac850451-7f04-4875-8259-73aa22401c69",
   "metadata": {},
   "outputs": [],
   "source": []
  }
 ],
 "metadata": {
  "kernelspec": {
   "display_name": "Python 3 (ipykernel)",
   "language": "python",
   "name": "python3"
  },
  "language_info": {
   "codemirror_mode": {
    "name": "ipython",
    "version": 3
   },
   "file_extension": ".py",
   "mimetype": "text/x-python",
   "name": "python",
   "nbconvert_exporter": "python",
   "pygments_lexer": "ipython3",
   "version": "3.10.11"
  }
 },
 "nbformat": 4,
 "nbformat_minor": 5
}
